{
  "nbformat": 4,
  "nbformat_minor": 0,
  "metadata": {
    "colab": {
      "name": "Get your Tidepool Data.ipynb",
      "version": "0.3.2",
      "provenance": [],
      "collapsed_sections": [],
      "include_colab_link": true
    },
    "kernelspec": {
      "name": "python3",
      "display_name": "Python 3"
    },
    "accelerator": "GPU"
  },
  "cells": [
    {
      "cell_type": "markdown",
      "metadata": {
        "id": "view-in-github",
        "colab_type": "text"
      },
      "source": [
        "<a href=\"https://colab.research.google.com/github/ed-nykaza/Loop/blob/master/projects/colab-notebooks/Get_your_Tidepool_Data.ipynb\" target=\"_parent\"><img src=\"https://colab.research.google.com/assets/colab-badge.svg\" alt=\"Open In Colab\"/></a>"
      ]
    },
    {
      "cell_type": "markdown",
      "metadata": {
        "id": "pXu6qot8cr-m",
        "colab_type": "text"
      },
      "source": [
        "# Get your Tidepool Data\n",
        "\n",
        "\n",
        "## Instructions\n",
        "\n",
        "1.   Please run this in Playground Mode (click File, and Open in playground mode) or create a copy so you don't overwrite this example (i.e., File, \"Save a copy in Drive...\"\n",
        "2.   Before you run the code be sure to select \"Connect\" in the top right-hand corner of the webpage.\n",
        "3.   To run the code, you press shift-return to execute each cell, or you can press the Run button (above), or you can click on the \n",
        "4.   You will need to enter in your Tidepool credentials to pull your data (i.e., email address & pwd)\n",
        "5.   You will be prompted to connect your collaboratory instance to google drive, follow the link and copy/paste the auth string back into this notebook.\n",
        "6.   The code will save the results to your root google drive folder, \"My Drive.\" \n",
        "\n",
        "## Note\n",
        "* In each of the cells, functions are defined first folllwed by code that uses those functions\n",
        "\n",
        "\n",
        "\n",
        "\n",
        "\n"
      ]
    },
    {
      "cell_type": "code",
      "metadata": {
        "id": "uMFHFQ3166rs",
        "colab_type": "code",
        "colab": {}
      },
      "source": [
        "# %% REQUIRED LIBRARIES\n",
        "import numpy as np\n",
        "import pandas as pd\n",
        "import os\n",
        "import requests\n",
        "import json\n",
        "import getpass\n",
        "from pytz import timezone\n",
        "import datetime as dt\n",
        "from scipy import stats\n",
        "import plotly.plotly as py\n",
        "import random\n",
        "import numpy as np\n",
        "import plotly.graph_objs as go\n",
        "from plotly.offline import init_notebook_mode, iplot"
      ],
      "execution_count": 0,
      "outputs": []
    },
    {
      "cell_type": "markdown",
      "metadata": {
        "id": "gALaf_qo8lQw",
        "colab_type": "text"
      },
      "source": [
        "# get data from Tidepool API\n",
        "\n",
        "*   You can either enter in the big data credentials (Tidepool employees only) AND userID, or\n",
        "*   You can enter in your Tidepool email (username) and password (when prompted)\n"
      ]
    },
    {
      "cell_type": "code",
      "metadata": {
        "id": "yvDMoACw7zAz",
        "colab_type": "code",
        "colab": {}
      },
      "source": [
        "# %% get Tidepool data from api\n",
        "def get_data_from_api(\n",
        "    email=np.nan,\n",
        "    password=np.nan,\n",
        "    years_of_data=10,\n",
        "    userid_of_shared_user=np.nan,\n",
        "):\n",
        "  \n",
        "    if pd.isnull(email):\n",
        "        email=input(\"Enter Tidepool email address:\\n\")\n",
        "      \n",
        "    if pd.isnull(password):\n",
        "        password=getpass.getpass(\"Enter password:\\n\")\n",
        "  \n",
        "    df = pd.DataFrame()\n",
        "    url1 = \"https://api.tidepool.org/auth/login\"\n",
        "    url3 = \"https://api.tidepool.org/auth/logout\"\n",
        "    \n",
        "    myResponse = requests.post(url1, auth=(email, password))\n",
        "\n",
        "    if(myResponse.ok):\n",
        "        xtoken = myResponse.headers[\"x-tidepool-session-token\"]\n",
        "        \n",
        "        if pd.isnull(userid_of_shared_user):\n",
        "            userid = json.loads(myResponse.content.decode())[\"userid\"]\n",
        "        else:\n",
        "            userid = userid_of_shared_user       \n",
        "        \n",
        "        endDate = pd.datetime.now()\n",
        "\n",
        "        for years in range(1, years_of_data + 1):\n",
        "            startDate = endDate - pd.Timedelta(365, unit=\"d\")\n",
        "\n",
        "            url2 = \"https://api.tidepool.org/data/\" + userid + \\\n",
        "                \"?endDate=\" + endDate.strftime(\"%Y-%m-%d\") + \\\n",
        "                \"T23:59:59.000Z&startDate=\" + \\\n",
        "                startDate.strftime(\"%Y-%m-%d\") + \"T00:00:00.000Z\"\n",
        "\n",
        "            headers = {\n",
        "                \"x-tidepool-session-token\": xtoken,\n",
        "                \"Content-Type\": \"application/json\"\n",
        "                }\n",
        "\n",
        "            myResponse2 = requests.get(url2, headers=headers)\n",
        "            if(myResponse2.ok):\n",
        "\n",
        "                usersData = json.loads(myResponse2.content.decode())\n",
        "                tempDF = pd.DataFrame(usersData)\n",
        "                df = pd.concat([df, tempDF], ignore_index=True)\n",
        "\n",
        "            else:\n",
        "                print(\"ERROR in year \", years, myResponse2.status_code)\n",
        "\n",
        "            endDate = startDate - pd.Timedelta(1, unit=\"d\")\n",
        "    else:\n",
        "        print(\"ERROR in getting token \", myResponse.status_code)\n",
        "        myResponse2 = np.nan\n",
        "\n",
        "    myResponse3 = requests.post(url3, auth=(email, password))\n",
        "    \n",
        "    responses = [myResponse, myResponse2, myResponse3]\n",
        "\n",
        "    return df, responses\n",
        "  \n",
        "  \n",
        "data, responses = get_data_from_api(\n",
        "    years_of_data=1,  # valid numbers are 1-10\n",
        ")\n",
        "# print a list of the column headings in the dataset\n",
        "list(data)"
      ],
      "execution_count": 0,
      "outputs": []
    },
    {
      "cell_type": "markdown",
      "metadata": {
        "id": "wUaRPDIxWnuT",
        "colab_type": "text"
      },
      "source": [
        "# save your data\n"
      ]
    },
    {
      "cell_type": "code",
      "metadata": {
        "id": "CcJ7QJqkx8Vb",
        "colab_type": "code",
        "colab": {}
      },
      "source": [
        "# save the data\n",
        "from google.colab import drive\n",
        "drive.mount(\"drive\", force_remount=True)\n",
        "\n",
        "data.to_csv(\"your-tidepool-data.csv\")\n",
        "!cp your-tidepool-data.csv drive/My\\ Drive/\n"
      ],
      "execution_count": 0,
      "outputs": []
    }
  ]
}